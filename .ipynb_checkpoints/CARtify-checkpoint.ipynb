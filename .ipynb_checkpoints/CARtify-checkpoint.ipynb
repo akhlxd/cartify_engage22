{
 "cells": [
  {
   "cell_type": "markdown",
   "id": "19b17268-8220-433e-bfd6-265a443223be",
   "metadata": {
    "tags": []
   },
   "source": [
    "# CARtify"
   ]
  },
  {
   "cell_type": "markdown",
   "id": "13cb0f69-cde8-46bc-9f6c-97e75dbbbb56",
   "metadata": {},
   "source": [
    "CARtify is a machine learning/analytics tool that aims to find correlation between the Ex-Showroom Price and the properties of the car to help the manufacturers predict what the 'competetitive' price of a car they're planning to build should be. It also shows them comparison with cars with similar price points to see how they rank in their category."
   ]
  },
  {
   "cell_type": "code",
   "execution_count": 1,
   "id": "942eb9bc-f835-4d40-812c-3dfdff2aeebd",
   "metadata": {
    "collapsed": true,
    "jupyter": {
     "outputs_hidden": true,
     "source_hidden": true
    },
    "tags": []
   },
   "outputs": [
    {
     "name": "stdout",
     "output_type": "stream",
     "text": [
      "Please Select the budget for which you want to build you car:\n",
      "Enter 1 for less than Rs. 10,00,000\n",
      "Enter 2 for Rs. 10,00,000 - Rs. 35,00,000\n",
      "Enter 3 for Rs. 35,00,000 - Rs. 50,00,000\n",
      "Enter 4 for Rs. 50,00,000 - Rs. 75,00,000\n",
      "Enter 5 for Rs. 75,00,000 - Rs. 1,00,00,000\n",
      "Enter 6 for more than Rs. 1,00,00,000\n"
     ]
    },
    {
     "name": "stdin",
     "output_type": "stream",
     "text": [
      "Enter your choice: 1\n"
     ]
    }
   ],
   "source": [
    "import pandas as pd\n",
    "import numpy as np\n",
    "import xgboost as xgb\n",
    "import matplotlib.pyplot as plt\n",
    "from sklearn.metrics import mean_squared_error\n",
    "from sklearn.model_selection import train_test_split\n",
    "from sklearn.metrics import balanced_accuracy_score, roc_auc_score, make_scorer\n",
    "from sklearn.model_selection import GridSearchCV\n",
    "from sklearn.metrics import confusion_matrix\n",
    "from sklearn.metrics import plot_confusion_matrix\n",
    "import matplotlib.pyplot as plt\n",
    "import seaborn as sns\n",
    "from IPython.display import clear_output\n",
    "import sys\n",
    "%matplotlib inline\n",
    "sns.set_style('darkgrid')\n",
    "\n",
    "sys.path.insert(0,\"scripts\")\n",
    "from data_cleaning import Cleaner\n",
    "\n",
    "sys.path.insert(0,\"scripts/prediction_models\")\n",
    "from price_pred_1 import Price_Predictor1\n",
    "from price_pred_2 import Price_Predictor2\n",
    "from price_pred_3 import Price_Predictor3\n",
    "from price_pred_4 import Price_Predictor4\n",
    "from price_pred_5 import Price_Predictor5\n",
    "from price_pred_6 import Price_Predictor6\n",
    "\n",
    "pp1 = Price_Predictor1()\n",
    "pp2 = Price_Predictor2()\n",
    "pp3 = Price_Predictor3()\n",
    "pp4 = Price_Predictor4()\n",
    "pp5 = Price_Predictor5()\n",
    "pp6 = Price_Predictor6()\n",
    "\n",
    "budget=0\n",
    "\n",
    "while(budget<1 or budget>6):\n",
    "    print('Please Select the budget for which you want to build you car:')\n",
    "    print('Enter 1 for less than Rs. 10,00,000')\n",
    "    print('Enter 2 for Rs. 10,00,000 - Rs. 35,00,000')\n",
    "    print('Enter 3 for Rs. 35,00,000 - Rs. 50,00,000')\n",
    "    print('Enter 4 for Rs. 50,00,000 - Rs. 75,00,000')\n",
    "    print('Enter 5 for Rs. 75,00,000 - Rs. 1,00,00,000')\n",
    "    print('Enter 6 for more than Rs. 1,00,00,000')\n",
    "    budget=input('Enter your choice:')\n",
    "    budget = int(budget)\n",
    "    if (budget<1 or budget>6):\n",
    "        clear_output(wait=False)\n",
    "    \n"
   ]
  },
  {
   "cell_type": "code",
   "execution_count": null,
   "id": "4cec829d-4893-4f2d-9279-931aae0a763a",
   "metadata": {
    "collapsed": true,
    "jupyter": {
     "outputs_hidden": true,
     "source_hidden": true
    },
    "tags": []
   },
   "outputs": [
    {
     "name": "stdout",
     "output_type": "stream",
     "text": [
      "Please enter the following details of the car:\n",
      "Please Enter Displacement in cc\n"
     ]
    }
   ],
   "source": [
    "if (budget == 1):\n",
    "    \n",
    "    print('Please enter the following details of the car:')\n",
    "    print('Please Enter Displacement in cc')\n",
    "    disp=int(input('Displacement:'))\n",
    "    \n",
    "    print('Please Enter Fuel Tank Capacity in L')\n",
    "    fuel=float(input('Fuel Tank Capacity:'))\n",
    "    \n",
    "    fuel_t=0\n",
    "    while(fuel_t<1 or fuel_t>2):\n",
    "        print('Please Enter Fuel Type (1 for Petrol, 2 for Diesel')\n",
    "        fuel_t=int(input('Fuel Type:'))\n",
    "    \n",
    "    print('Please Enter Length in mm')\n",
    "    leng=int(input('Length:'))\n",
    "    \n",
    "    body_t=0\n",
    "    print('Please Enter Body Type:')\n",
    "    print('Hatchback = 1')\n",
    "    print('MPV = 2')\n",
    "    print('MUV = 3')\n",
    "    print('SUV = 4')\n",
    "    print('Sedan = 5')\n",
    "    print('Crossover = 6')\n",
    "    print('Coupe = 7')\n",
    "    print('Sports, Hatchback = 8')\n",
    "    print('Convertible = 9')\n",
    "    print('Sedan, Coupe = 10')\n",
    "    print('Sports = 11')\n",
    "    print('Crossover, SUV = 12')\n",
    "    print('SUV, Crossover = 13')\n",
    "    print('Sedan, Crossover = 14')\n",
    "    print('Sports, Convertible = 15')\n",
    "    print('Coupe, Convertible = 16')\n",
    "    while (body_t<1 or body_t>16):\n",
    "        body_t=int(input('Body Type:'))\n",
    "    \n",
    "    doors=0\n",
    "    print('Please number of doors')\n",
    "    while doors < 1:\n",
    "        doors =int(input('Doors:'))\n",
    "    \n",
    "    print('Please Enter Power in HP')\n",
    "    powe=float(input('Power:'))\n",
    "    \n",
    "    print('Please Enter Wheelbase in mm')\n",
    "    wheel=int(input('Wheelbase:'))\n",
    "    \n",
    "    \n",
    "    \n",
    "    xg_reg, preds, y_test = pp1.xgb_fun1()\n",
    "    pp1.input_params1(disp, fuel, fuel_t, leng, body_t, doors, powe, wheel)\n",
    "    y_pred = pp1.predict1(xg_reg)\n",
    "    print(f'Predicted Price: {y_pred}')\n",
    "    print(f'With a Root Mean Square Error of :{pred.error_calc(y_test, preds)}')"
   ]
  },
  {
   "cell_type": "code",
   "execution_count": null,
   "id": "f66c8667-830b-4f5a-b499-22daef4a42b4",
   "metadata": {
    "collapsed": true,
    "jupyter": {
     "outputs_hidden": true,
     "source_hidden": true
    },
    "tags": []
   },
   "outputs": [],
   "source": []
  },
  {
   "cell_type": "code",
   "execution_count": null,
   "id": "fb8ca7f5-d941-4f89-96c5-da8d96640d07",
   "metadata": {
    "collapsed": true,
    "jupyter": {
     "outputs_hidden": true,
     "source_hidden": true
    }
   },
   "outputs": [],
   "source": []
  }
 ],
 "metadata": {
  "kernelspec": {
   "display_name": "Python 3 (ipykernel)",
   "language": "python",
   "name": "python3"
  },
  "language_info": {
   "codemirror_mode": {
    "name": "ipython",
    "version": 3
   },
   "file_extension": ".py",
   "mimetype": "text/x-python",
   "name": "python",
   "nbconvert_exporter": "python",
   "pygments_lexer": "ipython3",
   "version": "3.9.7"
  }
 },
 "nbformat": 4,
 "nbformat_minor": 5
}
