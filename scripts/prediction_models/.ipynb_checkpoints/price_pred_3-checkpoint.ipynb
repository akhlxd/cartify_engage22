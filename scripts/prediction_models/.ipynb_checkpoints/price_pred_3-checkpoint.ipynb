{
 "cells": [
  {
   "cell_type": "code",
   "execution_count": 1,
   "id": "9acf0d75-3bdc-4573-baf1-b24ca9693f81",
   "metadata": {},
   "outputs": [],
   "source": [
    "import pandas as pd\n",
    "import numpy as np\n",
    "import xgboost as xgb\n",
    "import matplotlib.pyplot as plt\n",
    "from sklearn.metrics import mean_squared_error\n",
    "from sklearn.model_selection import train_test_split\n",
    "from sklearn.metrics import balanced_accuracy_score, roc_auc_score, make_scorer\n",
    "from sklearn.model_selection import GridSearchCV\n",
    "from sklearn.metrics import confusion_matrix\n",
    "from sklearn.metrics import plot_confusion_matrix"
   ]
  },
  {
   "cell_type": "code",
   "execution_count": 2,
   "id": "05a7ecfb-54aa-4430-acb5-14cf67db8c39",
   "metadata": {},
   "outputs": [],
   "source": [
    "class Price_Predictor3:\n",
    "    def __init__(self):\n",
    "        self.disp = 0      \n",
    "        self.fuel = 0.0 \n",
    "        self.fuel_t = 0    \n",
    "        self.leng = 0.0 \n",
    "        self.body_t = 0.0  \n",
    "        self.door = 0\n",
    "        self.powe = 0.0\n",
    "        self.wheel=0\n",
    "        return\n",
    "        \n",
    "    def input_params3(self, disp, mil, fuel, hei, wid, body_t, powe, tor, wheel):\n",
    "        self.disp = disp \n",
    "        self.mil = mil\n",
    "        self.fuel = fuel\n",
    "        self.hei = hei\n",
    "        self.wid = wid \n",
    "        self.body_t = body_t\n",
    "        self.powe = powe\n",
    "        self.tor = tor\n",
    "        self.wheel = wheel\n",
    "        return\n",
    "        \n",
    "    def xgb_fun3(self):\n",
    "        df = pd.read_csv('datasets/cleaned_dataset/cleaned_car_data.csv')\n",
    "        df = df.loc[(df['price']>=3500000) & (df['price']<5000000)]\n",
    "        X = df[['displacement', 'cylinders', 'mileage', 'fuel_capacity', 'fuel_type', 'height', 'length', 'width', 'body_type', \n",
    "                'doors', 'power', 'torque', 'seating_capacity', 'wheelbase']]\n",
    "        y = df['price']\n",
    "        # 'displacement', 'mileage', 'fuel_capacity', 'height', 'length', 'width', 'power', \n",
    "        data_dmatrix = xgb.DMatrix(data=X,label=y)\n",
    "        X_train, X_test, y_train, y_test = train_test_split(X, y, test_size=0.2, random_state=0)\n",
    "        \n",
    "        xg_reg = xgb.XGBRegressor(objective ='reg:squarederror', colsample_bytree = 0.1,\n",
    "                                  learning_rate = 0.1, max_depth = 2, alpha = 1, n_estimators = 10)\n",
    "        \n",
    "        params = {\"objective\":\"reg:squarederror\",'colsample_bytree': 0.1,'learning_rate': 0.1, 'max_depth': 3, 'alpha': 10}\n",
    "        cv_results = xgb.cv(dtrain=data_dmatrix, params=params, nfold=5, num_boost_round=700,early_stopping_rounds=50,metrics=\"rmse\", as_pandas=True, seed=0)\n",
    "        \n",
    "        xg_reg.fit(X_train,y_train)\n",
    "        preds = xg_reg.predict(X_test)\n",
    "        \n",
    "        return xg_reg, preds, y_test\n",
    "    \n",
    "    def predict3(self, xg_reg):\n",
    "        Y_pred = (xg_reg.predict(np.array([\n",
    "        self.disp,  \n",
    "        self.mil,\n",
    "        self.fuel,\n",
    "        self.hei,\n",
    "        self.wid, \n",
    "        self.body_t,\n",
    "        self.powe,\n",
    "        self.tor,\n",
    "        self.wheel\n",
    "        ]).reshape(1, 9))).astype(float)\n",
    "        return Y_pred\n",
    "    \n",
    "    def error_calc(self, y_test, preds):\n",
    "        \n",
    "        rmse = np.sqrt(mean_squared_error(y_test, preds))\n",
    "        return rmse\n",
    "    \n",
    "    def plot_imp(self, xg_reg):\n",
    "        \n",
    "        xgb.plot_importance(xg_reg)\n",
    "        plt.figure(figsize = (16, 12))\n",
    "        plt.show()\n",
    "        return"
   ]
  },
  {
   "cell_type": "code",
   "execution_count": 3,
   "id": "e869de5e-1ee2-4b31-88e2-9ae7a02d2c56",
   "metadata": {},
   "outputs": [],
   "source": [
    "pred = Price_Predictor3()"
   ]
  },
  {
   "cell_type": "code",
   "execution_count": 4,
   "id": "b4a18b97-6c83-4256-9eb3-f0aab95b4f82",
   "metadata": {},
   "outputs": [
    {
     "name": "stdout",
     "output_type": "stream",
     "text": [
      "1615135.4773947396\n"
     ]
    }
   ],
   "source": [
    "xg_reg, preds, y_test = pred.xgb_fun3()\n",
    "print(pred.error_calc(y_test, preds))"
   ]
  },
  {
   "cell_type": "code",
   "execution_count": null,
   "id": "5f7ef1ab-ca63-4f12-8eed-8c2de70557d9",
   "metadata": {},
   "outputs": [],
   "source": []
  }
 ],
 "metadata": {
  "kernelspec": {
   "display_name": "Python 3 (ipykernel)",
   "language": "python",
   "name": "python3"
  },
  "language_info": {
   "codemirror_mode": {
    "name": "ipython",
    "version": 3
   },
   "file_extension": ".py",
   "mimetype": "text/x-python",
   "name": "python",
   "nbconvert_exporter": "python",
   "pygments_lexer": "ipython3",
   "version": "3.9.7"
  }
 },
 "nbformat": 4,
 "nbformat_minor": 5
}
