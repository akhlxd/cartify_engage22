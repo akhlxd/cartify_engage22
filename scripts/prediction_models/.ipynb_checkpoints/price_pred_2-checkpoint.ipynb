{
 "cells": [
  {
   "cell_type": "code",
   "execution_count": 145,
   "id": "29ec9d83-1139-4647-9c76-1cd065eea1cd",
   "metadata": {},
   "outputs": [],
   "source": [
    "import pandas as pd\n",
    "import numpy as np\n",
    "import xgboost as xgb\n",
    "import matplotlib.pyplot as plt\n",
    "from sklearn.metrics import mean_squared_error\n",
    "from sklearn.model_selection import train_test_split\n",
    "from sklearn.metrics import balanced_accuracy_score, roc_auc_score, make_scorer\n",
    "from sklearn.model_selection import GridSearchCV\n",
    "from sklearn.metrics import confusion_matrix\n",
    "from sklearn.metrics import plot_confusion_matrix"
   ]
  },
  {
   "cell_type": "code",
   "execution_count": 200,
   "id": "0c367f54-41c0-4a38-9041-23a874b2b7eb",
   "metadata": {},
   "outputs": [],
   "source": [
    "class Price_Predictor2:\n",
    "    def __init__(self):\n",
    "        self.disp = 0      \n",
    "        self.fuel = 0.0 \n",
    "        self.fuel_t = 0    \n",
    "        self.leng = 0.0 \n",
    "        self.body_t = 0.0  \n",
    "        self.door = 0\n",
    "        self.powe = 0.0\n",
    "        self.wheel=0\n",
    "        return\n",
    "        \n",
    "    def input_params2(self, disp, mil, fuel, hei, wid, body_t, powe, tor, wheel):\n",
    "        self.disp = disp \n",
    "        self.mil = mil\n",
    "        self.fuel = fuel\n",
    "        self.hei = hei\n",
    "        self.wid = wid \n",
    "        self.body_t = body_t\n",
    "        self.powe = powe\n",
    "        self.tor = tor\n",
    "        self.wheel = wheel\n",
    "        return\n",
    "        \n",
    "    def xgb_fun2(self):\n",
    "        df = pd.read_csv('datasets/cleaned_dataset/cleaned_car_data.csv')\n",
    "        df = df.loc[(df['price']>=1000000) & (df['price']<3500000)]\n",
    "        X = df[['displacement', 'mileage', 'fuel_capacity', 'height', 'width', 'body_type', \n",
    "                'power', 'torque', 'wheelbase']]\n",
    "        y = df['price']\n",
    "        # 'displacement', 'mileage', 'fuel_capacity', 'height', 'length', 'width', 'power', \n",
    "        data_dmatrix = xgb.DMatrix(data=X,label=y)\n",
    "        X_train, X_test, y_train, y_test = train_test_split(X, y, test_size=0.2, random_state=0)\n",
    "        \n",
    "        xg_reg = xgb.XGBRegressor(objective ='reg:squarederror', colsample_bytree = 0.2,\n",
    "                                  learning_rate = 0.1, max_depth = 4, alpha = 1, n_estimators = 400)\n",
    "        \n",
    "        params = {\"objective\":\"reg:squarederror\",'colsample_bytree': 0.1,'learning_rate': 0.1, 'max_depth': 3, 'alpha': 10}\n",
    "        cv_results = xgb.cv(dtrain=data_dmatrix, params=params, nfold=5, num_boost_round=700,early_stopping_rounds=50,metrics=\"rmse\", as_pandas=True, seed=0)\n",
    "        \n",
    "        xg_reg.fit(X_train,y_train)\n",
    "        preds = xg_reg.predict(X_test)\n",
    "        \n",
    "        return xg_reg, preds, y_test\n",
    "    \n",
    "    def predict2(self, xg_reg):\n",
    "        Y_pred = (xg_reg.predict(np.array([\n",
    "        self.disp,  \n",
    "        self.mil,\n",
    "        self.fuel,\n",
    "        self.hei,\n",
    "        self.wid, \n",
    "        self.body_t,\n",
    "        self.powe,\n",
    "        self.tor,\n",
    "        self.wheel\n",
    "        ]).reshape(1, 9))).astype(float)\n",
    "        return Y_pred\n",
    "    \n",
    "    def error_calc(self, y_test, preds):\n",
    "        \n",
    "        rmse = np.sqrt(mean_squared_error(y_test, preds))\n",
    "        return rmse\n",
    "    \n",
    "    def plot_imp(self, xg_reg):\n",
    "        \n",
    "        xgb.plot_importance(xg_reg)\n",
    "        plt.figure(figsize = (16, 12))\n",
    "        plt.show()\n",
    "        return"
   ]
  },
  {
   "cell_type": "code",
   "execution_count": 201,
   "id": "481846dd-74b2-4640-9b29-3e5ed2891bbc",
   "metadata": {},
   "outputs": [],
   "source": [
    "pred = Price_Predictor2()"
   ]
  },
  {
   "cell_type": "code",
   "execution_count": 202,
   "id": "539544d4-fa8f-46b7-924e-6bc5b9666d3c",
   "metadata": {},
   "outputs": [
    {
     "name": "stdout",
     "output_type": "stream",
     "text": [
      "267682.9879471867\n"
     ]
    }
   ],
   "source": [
    "xg_reg, preds, y_test = pred.xgb_fun2()\n",
    "print(pred.error_calc(y_test, preds))"
   ]
  },
  {
   "cell_type": "code",
   "execution_count": 203,
   "id": "e78a9227-0436-4c7c-a7b7-67450a0743bc",
   "metadata": {},
   "outputs": [
    {
     "name": "stdout",
     "output_type": "stream",
     "text": [
      "[1873698.875]\n"
     ]
    }
   ],
   "source": [
    "pred.input_params2(2694, 10.75, 55.0, 1, 1795.0, 1830.0, 5, 163.73, 245)\n",
    "y_pred = pred.predict2(xg_reg)\n",
    "print(y_pred)"
   ]
  },
  {
   "cell_type": "code",
   "execution_count": 204,
   "id": "e6423e8d-3d94-40d5-ad1b-29c615f39dea",
   "metadata": {},
   "outputs": [
    {
     "data": {
      "text/plain": [
       "{'displacement': 180132839424.0,\n",
       " 'mileage': 83193307136.0,\n",
       " 'fuel_capacity': 70295625728.0,\n",
       " 'height': 193004060672.0,\n",
       " 'width': 210510184448.0,\n",
       " 'body_type': 22131703808.0,\n",
       " 'power': 357974114304.0,\n",
       " 'torque': 147714260992.0,\n",
       " 'wheelbase': 245487812608.0}"
      ]
     },
     "execution_count": 204,
     "metadata": {},
     "output_type": "execute_result"
    }
   ],
   "source": [
    "gain_param = xg_reg.get_booster().get_score(importance_type= 'gain')\n",
    "gain_param"
   ]
  },
  {
   "cell_type": "code",
   "execution_count": 205,
   "id": "fd434456-d011-4e7f-a810-91e2a0fb001d",
   "metadata": {},
   "outputs": [
    {
     "name": "stdout",
     "output_type": "stream",
     "text": [
      "[2.21317038e+10 7.02956257e+10 8.31933071e+10 1.47714261e+11\n",
      " 1.80132839e+11 1.93004061e+11 2.10510184e+11 2.45487813e+11\n",
      " 3.57974114e+11]\n"
     ]
    }
   ],
   "source": [
    "list_p = np.array(list(gain_param.values()))\n",
    "print(np.sort(list_p))"
   ]
  },
  {
   "cell_type": "code",
   "execution_count": 206,
   "id": "b7bc90f4-d3a1-4b7d-b97a-48d3f2cb8056",
   "metadata": {},
   "outputs": [
    {
     "data": {
      "image/png": "[encoded data removed]",
      "text/plain": [
       "<Figure size 432x288 with 1 Axes>"
      ]
     },
     "metadata": {
      "needs_background": "light"
     },
     "output_type": "display_data"
    },
    {
     "data": {
      "text/plain": [
       "<Figure size 1152x864 with 0 Axes>"
      ]
     },
     "metadata": {},
     "output_type": "display_data"
    }
   ],
   "source": [
    "xgb.plot_importance(xg_reg)\n",
    "plt.figure(figsize = (16, 12))\n",
    "plt.show()"
   ]
  },
  {
   "cell_type": "code",
   "execution_count": null,
   "id": "dc73bb8f-7ef9-4ea8-84d5-e47652479003",
   "metadata": {},
   "outputs": [],
   "source": []
  }
 ],
 "metadata": {
  "kernelspec": {
   "display_name": "Python 3 (ipykernel)",
   "language": "python",
   "name": "python3"
  },
  "language_info": {
   "codemirror_mode": {
    "name": "ipython",
    "version": 3
   },
   "file_extension": ".py",
   "mimetype": "text/x-python",
   "name": "python",
   "nbconvert_exporter": "python",
   "pygments_lexer": "ipython3",
   "version": "3.9.7"
  }
 },
 "nbformat": 4,
 "nbformat_minor": 5
}
