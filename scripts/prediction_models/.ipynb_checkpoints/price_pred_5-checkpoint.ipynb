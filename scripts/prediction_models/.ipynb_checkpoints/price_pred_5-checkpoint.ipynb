{
 "cells": [
  {
   "cell_type": "code",
   "execution_count": 9,
   "id": "f93ada5d-4fe8-47a5-9771-ae0ef19c79f5",
   "metadata": {},
   "outputs": [],
   "source": [
    "import pandas as pd\n",
    "import numpy as np\n",
    "import xgboost as xgb\n",
    "import matplotlib.pyplot as plt\n",
    "from sklearn.metrics import mean_squared_error\n",
    "from sklearn.model_selection import train_test_split\n",
    "from sklearn.metrics import balanced_accuracy_score, roc_auc_score, make_scorer\n",
    "from sklearn.model_selection import GridSearchCV\n",
    "from sklearn.metrics import confusion_matrix\n",
    "from sklearn.metrics import plot_confusion_matrix"
   ]
  },
  {
   "cell_type": "code",
   "execution_count": 133,
   "id": "4a6b1f9c-b925-45cc-a077-fcc57c6f74be",
   "metadata": {},
   "outputs": [],
   "source": [
    "class Price_Predictor5:\n",
    "    def __init__(self):\n",
    "        self.disp = 0      \n",
    "        self.fuel = 0.0 \n",
    "        self.fuel_t = 0    \n",
    "        self.leng = 0.0 \n",
    "        self.body_t = 0.0  \n",
    "        self.door = 0\n",
    "        self.powe = 0.0\n",
    "        self.wheel=0\n",
    "        return\n",
    "        \n",
    "    def input_params5(self, disp, mil, fuel, hei, leng, wid, powe, tor):\n",
    "        self.disp = disp\n",
    "        self.mil = mil\n",
    "        self.fuel = fuel\n",
    "        self.hei = hei\n",
    "        self.leng = leng\n",
    "        self.wid = wid \n",
    "        self.powe = powe\n",
    "        self.tor = tor\n",
    "        return\n",
    "        \n",
    "    def xgb_fun5(self):\n",
    "        df = pd.read_csv('datasets/cleaned_dataset/cleaned_car_data.csv')\n",
    "        df = df.loc[(df['price']>=7500000) & (df['price']<10000000)]\n",
    "        X = df[['displacement', 'mileage', 'fuel_capacity', 'height', 'length', 'width', \n",
    "                'power', 'torque']]\n",
    "        y = df['price']\n",
    "        # 'displacement', 'mileage', 'fuel_capacity', 'height', 'length', 'width', 'power', \n",
    "        data_dmatrix = xgb.DMatrix(data=X,label=y)\n",
    "        X_train, X_test, y_train, y_test = train_test_split(X, y, test_size=0.2, random_state=0)\n",
    "        \n",
    "        xg_reg = xgb.XGBRegressor(objective ='reg:squarederror', colsample_bytree = 0.1,\n",
    "                                  learning_rate = 0.1, max_depth = 7, alpha = 1, n_estimators = 400)\n",
    "        \n",
    "        params = {\"objective\":\"reg:squarederror\",'colsample_bytree': 0.1,'learning_rate': 0.1, 'max_depth': 3, 'alpha': 10}\n",
    "        cv_results = xgb.cv(dtrain=data_dmatrix, params=params, nfold=5, num_boost_round=700,early_stopping_rounds=50,metrics=\"rmse\", as_pandas=True, seed=0)\n",
    "        \n",
    "        xg_reg.fit(X_train,y_train)\n",
    "        preds = xg_reg.predict(X_test)\n",
    "        \n",
    "        return xg_reg, preds, y_test\n",
    "    \n",
    "    def predict5(self, xg_reg):\n",
    "        Y_pred = (xg_reg.predict(np.array([\n",
    "        self.disp,\n",
    "        self.mil,\n",
    "        self.fuel,\n",
    "        self.hei,\n",
    "        self.leng,\n",
    "        self.wid,\n",
    "        self.powe,\n",
    "        self.tor\n",
    "        ]).reshape(1, 8))).astype(float)\n",
    "        return Y_pred\n",
    "    \n",
    "    def error_calc(self, y_test, preds):\n",
    "        \n",
    "        rmse = np.sqrt(mean_squared_error(y_test, preds))\n",
    "        return rmse\n",
    "    \n",
    "    def plot_imp(self, xg_reg):\n",
    "        \n",
    "        xgb.plot_importance(xg_reg)\n",
    "        plt.figure(figsize = (16, 12))\n",
    "        plt.show()\n",
    "        return"
   ]
  },
  {
   "cell_type": "code",
   "execution_count": 134,
   "id": "904b0de1-e231-44f2-9fd6-b9e608ab2321",
   "metadata": {},
   "outputs": [],
   "source": [
    "pred = Price_Predictor5()"
   ]
  },
  {
   "cell_type": "code",
   "execution_count": 135,
   "id": "a9cd5a02-ce5d-46bc-9a5c-1f6797386ec0",
   "metadata": {},
   "outputs": [
    {
     "name": "stdout",
     "output_type": "stream",
     "text": [
      "779817.7715363333\n"
     ]
    }
   ],
   "source": [
    "xg_reg, preds, y_test = pred.xgb_fun5()\n",
    "print(pred.error_calc(y_test, preds))"
   ]
  },
  {
   "cell_type": "code",
   "execution_count": null,
   "id": "2c826189-5437-46d8-968b-a0c008971e19",
   "metadata": {},
   "outputs": [],
   "source": []
  },
  {
   "cell_type": "code",
   "execution_count": 136,
   "id": "b55b2218-3c1d-4620-863a-5e9a16ac0718",
   "metadata": {},
   "outputs": [
    {
     "data": {
      "text/plain": [
       "{'displacement': 1526807296.0,\n",
       " 'mileage': 13599022080.0,\n",
       " 'fuel_capacity': 8086104576.0,\n",
       " 'height': 2268586752.0,\n",
       " 'length': 1593111808.0,\n",
       " 'width': 3554759424.0,\n",
       " 'power': 6028353536.0,\n",
       " 'torque': 15585048576.0}"
      ]
     },
     "execution_count": 136,
     "metadata": {},
     "output_type": "execute_result"
    }
   ],
   "source": [
    "gain_param = xg_reg.get_booster().get_score(importance_type= 'gain')\n",
    "gain_param "
   ]
  },
  {
   "cell_type": "code",
   "execution_count": 137,
   "id": "164f1539-7519-481c-9012-eb008f74f5ae",
   "metadata": {},
   "outputs": [
    {
     "name": "stdout",
     "output_type": "stream",
     "text": [
      "[1.52680730e+09 1.59311181e+09 2.26858675e+09 3.55475942e+09\n",
      " 6.02835354e+09 8.08610458e+09 1.35990221e+10 1.55850486e+10]\n"
     ]
    }
   ],
   "source": [
    "list_p = np.array(list(gain_param.values()))\n",
    "print(np.sort(list_p))"
   ]
  },
  {
   "cell_type": "code",
   "execution_count": 138,
   "id": "58718674-5461-4cab-a0df-aa3bceba7645",
   "metadata": {},
   "outputs": [
    {
     "data": {
      "image/png": "[encoded data removed]",
      "text/plain": [
       "<Figure size 432x288 with 1 Axes>"
      ]
     },
     "metadata": {
      "needs_background": "light"
     },
     "output_type": "display_data"
    },
    {
     "data": {
      "text/plain": [
       "<Figure size 1152x864 with 0 Axes>"
      ]
     },
     "metadata": {},
     "output_type": "display_data"
    }
   ],
   "source": [
    "xgb.plot_importance(xg_reg)\n",
    "plt.figure(figsize = (16, 12))\n",
    "plt.show()"
   ]
  },
  {
   "cell_type": "code",
   "execution_count": null,
   "id": "8b8170c5-8291-4891-bca7-949dc2538be4",
   "metadata": {},
   "outputs": [],
   "source": []
  }
 ],
 "metadata": {
  "kernelspec": {
   "display_name": "Python 3 (ipykernel)",
   "language": "python",
   "name": "python3"
  },
  "language_info": {
   "codemirror_mode": {
    "name": "ipython",
    "version": 3
   },
   "file_extension": ".py",
   "mimetype": "text/x-python",
   "name": "python",
   "nbconvert_exporter": "python",
   "pygments_lexer": "ipython3",
   "version": "3.9.7"
  }
 },
 "nbformat": 4,
 "nbformat_minor": 5
}
