{
 "cells": [
  {
   "cell_type": "code",
   "execution_count": 322,
   "id": "d85dd7cb-abab-45d0-be39-5856405ed3b5",
   "metadata": {},
   "outputs": [],
   "source": [
    "import pandas as pd\n",
    "import numpy as np\n",
    "import xgboost as xgb\n",
    "import matplotlib.pyplot as plt\n",
    "from sklearn.metrics import mean_squared_error\n",
    "from sklearn.model_selection import train_test_split\n",
    "from sklearn.metrics import balanced_accuracy_score, roc_auc_score, make_scorer\n",
    "from sklearn.model_selection import GridSearchCV\n",
    "from sklearn.metrics import confusion_matrix\n",
    "from sklearn.metrics import plot_confusion_matrix"
   ]
  },
  {
   "cell_type": "code",
   "execution_count": 374,
   "id": "51bb2b3b-87eb-46e8-917f-4250609d191f",
   "metadata": {},
   "outputs": [],
   "source": [
    "class Price_Predictor6:\n",
    "    def __init__(self):\n",
    "        self.disp = 0      \n",
    "        self.fuel = 0.0 \n",
    "        self.fuel_t = 0    \n",
    "        self.leng = 0.0 \n",
    "        self.body_t = 0.0  \n",
    "        self.door = 0\n",
    "        self.powe = 0.0\n",
    "        self.wheel=0\n",
    "        return\n",
    "        \n",
    "    def input_params6(self, disp, mil, fuel, hei, leng, wid, powe, tor, seat_c, wheel):\n",
    "        self.disp = disp\n",
    "        self.mil = mil\n",
    "        self.fuel = fuel\n",
    "        self.hei = hei\n",
    "        self.leng = leng\n",
    "        self.wid = wid \n",
    "        self.powe = powe\n",
    "        self.tor = tor\n",
    "        self.seat_c = seat_c\n",
    "        self.wheel = wheel\n",
    "        return\n",
    "        \n",
    "    def xgb_fun6(self):\n",
    "        df = pd.read_csv('datasets/cleaned_dataset/cleaned_car_data.csv')\n",
    "        df = df.loc[df['price']>=10000000]\n",
    "        X = df[['displacement', 'cylinders', 'mileage', 'fuel_capacity', 'length', 'width', \n",
    "                'power', 'torque', 'wheelbase']]\n",
    "        y = df['price']\n",
    "        # 'displacement', 'mileage', 'fuel_capacity', 'height', 'length', 'width', 'power', \n",
    "        data_dmatrix = xgb.DMatrix(data=X,label=y)\n",
    "        X_train, X_test, y_train, y_test = train_test_split(X, y, test_size=0.2, random_state=0)\n",
    "        \n",
    "        xg_reg = xgb.XGBRegressor(objective ='reg:squarederror', colsample_bytree = 0.1,\n",
    "                                  learning_rate = 0.1, max_depth = 1, alpha = 1, n_estimators = 100)\n",
    "        \n",
    "        params = {\"objective\":\"reg:squarederror\",'colsample_bytree': 0.1,'learning_rate': 0.1, 'max_depth': 3, 'alpha': 10}\n",
    "        cv_results = xgb.cv(dtrain=data_dmatrix, params=params, nfold=5, num_boost_round=700,early_stopping_rounds=50,metrics=\"rmse\", as_pandas=True, seed=0)\n",
    "        \n",
    "        xg_reg.fit(X_train,y_train)\n",
    "        preds = xg_reg.predict(X_test)\n",
    "        \n",
    "        return xg_reg, preds, y_test\n",
    "    \n",
    "    def predict6(self, xg_reg):\n",
    "        Y_pred = (xg_reg.predict(np.array([\n",
    "        self.disp,\n",
    "        self.mil,\n",
    "        self.fuel,\n",
    "        self.hei,\n",
    "        self.leng,\n",
    "        self.wid,\n",
    "        self.powe,\n",
    "        self.tor,\n",
    "        self.seat_c,\n",
    "        self.wheel\n",
    "        ]).reshape(1, 10))).astype(float)\n",
    "        return Y_pred\n",
    "    \n",
    "    def error_calc(self, y_test, preds):\n",
    "        \n",
    "        rmse = np.sqrt(mean_squared_error(y_test, preds))\n",
    "        return rmse\n",
    "    \n",
    "    def plot_imp(self, xg_reg):\n",
    "        \n",
    "        xgb.plot_importance(xg_reg)\n",
    "        plt.figure(figsize = (16, 12))\n",
    "        plt.show()\n",
    "        return"
   ]
  },
  {
   "cell_type": "code",
   "execution_count": 375,
   "id": "f02e7f1b-60ae-4af6-a08b-7d8ec51b50fc",
   "metadata": {},
   "outputs": [],
   "source": [
    "pred = Price_Predictor6()"
   ]
  },
  {
   "cell_type": "code",
   "execution_count": 376,
   "id": "2441bbd9-e7e5-494e-a750-26533cf44fc1",
   "metadata": {},
   "outputs": [
    {
     "name": "stdout",
     "output_type": "stream",
     "text": [
      "6467551.123020142\n"
     ]
    }
   ],
   "source": [
    "xg_reg, preds, y_test = pred.xgb_fun6()\n",
    "print(pred.error_calc(y_test, preds))"
   ]
  },
  {
   "cell_type": "code",
   "execution_count": null,
   "id": "56f9ec78-e76a-4110-be07-22c5fd2ed52c",
   "metadata": {},
   "outputs": [],
   "source": []
  },
  {
   "cell_type": "code",
   "execution_count": 341,
   "id": "b26a0844-1889-44ea-b432-ceeaca87c141",
   "metadata": {},
   "outputs": [
    {
     "data": {
      "text/plain": [
       "{'displacement': 684877900939264.0,\n",
       " 'cylinders': 220249412599808.0,\n",
       " 'mileage': 309828303978496.0,\n",
       " 'fuel_capacity': 445179332919296.0,\n",
       " 'length': 694423599972352.0,\n",
       " 'width': 166747608973312.0,\n",
       " 'body_type': 231607218733056.0,\n",
       " 'power': 367110517686272.0,\n",
       " 'torque': 353871985639424.0,\n",
       " 'wheelbase': 777489945198592.0}"
      ]
     },
     "execution_count": 341,
     "metadata": {},
     "output_type": "execute_result"
    }
   ],
   "source": [
    "gain_param = xg_reg.get_booster().get_score(importance_type= 'gain')\n",
    "gain_param "
   ]
  },
  {
   "cell_type": "code",
   "execution_count": 342,
   "id": "c44268c2-ca15-4518-8ac3-f4db829287ee",
   "metadata": {},
   "outputs": [
    {
     "name": "stdout",
     "output_type": "stream",
     "text": [
      "[1.66747609e+14 2.20249413e+14 2.31607219e+14 3.09828304e+14\n",
      " 3.53871986e+14 3.67110518e+14 4.45179333e+14 6.84877901e+14\n",
      " 6.94423600e+14 7.77489945e+14]\n"
     ]
    }
   ],
   "source": [
    "list_p = np.array(list(gain_param.values()))\n",
    "print(np.sort(list_p))"
   ]
  },
  {
   "cell_type": "code",
   "execution_count": 343,
   "id": "762b976c-6787-42d8-9a40-0980eb10825a",
   "metadata": {},
   "outputs": [
    {
     "data": {
      "image/png": "[encoded data removed]",
      "text/plain": [
       "<Figure size 432x288 with 1 Axes>"
      ]
     },
     "metadata": {
      "needs_background": "light"
     },
     "output_type": "display_data"
    },
    {
     "data": {
      "text/plain": [
       "<Figure size 1152x864 with 0 Axes>"
      ]
     },
     "metadata": {},
     "output_type": "display_data"
    }
   ],
   "source": [
    "xgb.plot_importance(xg_reg)\n",
    "plt.figure(figsize = (16, 12))\n",
    "plt.show()"
   ]
  },
  {
   "cell_type": "code",
   "execution_count": 31,
   "id": "a4486dfe-e502-4628-bc4a-c46cc72a009a",
   "metadata": {},
   "outputs": [
    {
     "ename": "NameError",
     "evalue": "name 'df' is not defined",
     "output_type": "error",
     "traceback": [
      "\u001b[1;31m---------------------------------------------------------------------------\u001b[0m",
      "\u001b[1;31mNameError\u001b[0m                                 Traceback (most recent call last)",
      "\u001b[1;32m~\\AppData\\Local\\Temp/ipykernel_25696/3271225794.py\u001b[0m in \u001b[0;36m<module>\u001b[1;34m\u001b[0m\n\u001b[1;32m----> 1\u001b[1;33m \u001b[1;33m(\u001b[0m\u001b[0mdf\u001b[0m\u001b[1;33m.\u001b[0m\u001b[0mloc\u001b[0m\u001b[1;33m[\u001b[0m\u001b[0mdf\u001b[0m\u001b[1;33m[\u001b[0m\u001b[1;34m'price'\u001b[0m\u001b[1;33m]\u001b[0m\u001b[1;33m>=\u001b[0m\u001b[1;36m5000000\u001b[0m\u001b[1;33m]\u001b[0m\u001b[1;33m)\u001b[0m\u001b[1;33m.\u001b[0m\u001b[0mshape\u001b[0m\u001b[1;33m\u001b[0m\u001b[1;33m\u001b[0m\u001b[0m\n\u001b[0m",
      "\u001b[1;31mNameError\u001b[0m: name 'df' is not defined"
     ]
    }
   ],
   "source": [
    "# [['displacement', 'cylinders', 'mileage', 'fuel_capacity', 'length', 'width',\n",
    "#                 'doors', 'power', 'torque', 'wheelbase']]"
   ]
  },
  {
   "cell_type": "code",
   "execution_count": null,
   "id": "c6042736-0608-4e69-8ab9-00fc3a8c7743",
   "metadata": {},
   "outputs": [],
   "source": []
  }
 ],
 "metadata": {
  "kernelspec": {
   "display_name": "Python 3 (ipykernel)",
   "language": "python",
   "name": "python3"
  },
  "language_info": {
   "codemirror_mode": {
    "name": "ipython",
    "version": 3
   },
   "file_extension": ".py",
   "mimetype": "text/x-python",
   "name": "python",
   "nbconvert_exporter": "python",
   "pygments_lexer": "ipython3",
   "version": "3.9.7"
  }
 },
 "nbformat": 4,
 "nbformat_minor": 5
}
