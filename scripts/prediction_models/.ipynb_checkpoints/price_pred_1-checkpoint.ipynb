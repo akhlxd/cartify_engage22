{
 "cells": [
  {
   "cell_type": "code",
   "execution_count": 469,
   "id": "7577e262-b34f-4725-b9f8-5adde9c0244d",
   "metadata": {
    "tags": []
   },
   "outputs": [],
   "source": [
    "import pandas as pd\n",
    "import numpy as np\n",
    "import xgboost as xgb\n",
    "import matplotlib.pyplot as plt\n",
    "from sklearn.metrics import mean_squared_error\n",
    "from sklearn.model_selection import train_test_split\n",
    "from sklearn.metrics import balanced_accuracy_score, roc_auc_score, make_scorer\n",
    "from sklearn.model_selection import GridSearchCV\n",
    "from sklearn.metrics import confusion_matrix\n",
    "from sklearn.metrics import plot_confusion_matrix"
   ]
  },
  {
   "cell_type": "code",
   "execution_count": 1103,
   "id": "d0bcfb47-ecb5-4d7e-a82d-be31279f201c",
   "metadata": {},
   "outputs": [],
   "source": [
    "class Price_Predictor1:\n",
    "    def __init__(self):\n",
    "        self.disp = 0      \n",
    "        self.fuel = 0.0 \n",
    "        self.fuel_t = 0    \n",
    "        self.leng = 0.0 \n",
    "        self.body_t = 0.0  \n",
    "        self.door = 0\n",
    "        self.powe = 0.0\n",
    "        self.wheel=0\n",
    "        return\n",
    "        \n",
    "    def input_params1(self, disp, fuel, fuel_t, leng, body_t, door, powe, wheel):\n",
    "        self.disp = disp  \n",
    "        self.fuel = fuel\n",
    "        self.fuel_t = fuel_t\n",
    "        self.leng = leng \n",
    "        self.body_t = body_t\n",
    "        self.door = door\n",
    "        self.powe = powe\n",
    "        self.wheel = wheel\n",
    "        return\n",
    "        \n",
    "    def xgb_fun1(self):\n",
    "        df = pd.read_csv('datasets/cleaned_dataset/cleaned_car_data.csv')\n",
    "        df = df[df['price']<1000000]\n",
    "        X = df[['displacement', 'fuel_capacity', 'fuel_type', 'length', 'body_type', \n",
    "                'doors', 'power', 'wheelbase']]\n",
    "        y = df['price']\n",
    "        # 'displacement', 'mileage', 'fuel_capacity', 'height', 'length', 'width', 'power', \n",
    "        data_dmatrix = xgb.DMatrix(data=X,label=y)\n",
    "        X_train, X_test, y_train, y_test = train_test_split(X, y, test_size=0.2, random_state=0)\n",
    "        \n",
    "        xg_reg = xgb.XGBRegressor(objective ='reg:squarederror', colsample_bytree = 0.3,\n",
    "                                  learning_rate = 0.1, max_depth = 4, alpha = 10, n_estimators = 150)\n",
    "        \n",
    "        params = {\"objective\":\"reg:squarederror\",'colsample_bytree': 0.1,'learning_rate': 0.1, 'max_depth': 3, 'alpha': 10}\n",
    "        cv_results = xgb.cv(dtrain=data_dmatrix, params=params, nfold=5, num_boost_round=700,early_stopping_rounds=50,metrics=\"rmse\", as_pandas=True, seed=0)\n",
    "        \n",
    "        xg_reg.fit(X_train,y_train)\n",
    "        preds = xg_reg.predict(X_test)\n",
    "        \n",
    "        return xg_reg, preds, y_test\n",
    "    \n",
    "    def predict1(self, xg_reg):\n",
    "        Y_pred = (xg_reg.predict(np.array([\n",
    "        self.disp,     \n",
    "        self.fuel, \n",
    "        self.fuel_t,    \n",
    "        self.leng,\n",
    "        self.body_t,\n",
    "        self.door,\n",
    "        self.powe,\n",
    "        self.wheel\n",
    "        ]).reshape(1, 8))).astype(float)\n",
    "        return Y_pred\n",
    "    \n",
    "    def error_calc(self, y_test, preds):\n",
    "        \n",
    "        rmse = np.sqrt(mean_squared_error(y_test, preds))\n",
    "        return rmse\n",
    "    \n",
    "    def plot_imp(self, xg_reg):\n",
    "        \n",
    "        xgb.plot_importance(xg_reg)\n",
    "        plt.figure(figsize = (16, 12))\n",
    "        plt.show()\n",
    "        return"
   ]
  },
  {
   "cell_type": "code",
   "execution_count": 1104,
   "id": "ad70b4de-4dd3-4124-b04d-5b0725e6d33d",
   "metadata": {},
   "outputs": [],
   "source": [
    "pred = Price_Predictor1()"
   ]
  },
  {
   "cell_type": "code",
   "execution_count": 1105,
   "id": "621ed027-f38d-4c50-9be1-77b9ba9e1909",
   "metadata": {},
   "outputs": [
    {
     "name": "stdout",
     "output_type": "stream",
     "text": [
      "81029.2623824683\n"
     ]
    }
   ],
   "source": [
    "xg_reg, preds, y_test = pred.xgb_fun1()\n",
    "print(pred.error_calc(y_test, preds))"
   ]
  },
  {
   "cell_type": "code",
   "execution_count": 1107,
   "id": "0acdb46d-9eab-45d3-9d0d-cc7d0d9c2f9e",
   "metadata": {},
   "outputs": [
    {
     "name": "stdout",
     "output_type": "stream",
     "text": [
      "[388677.5625]\n"
     ]
    }
   ],
   "source": [
    "pred.input_params1(999, 28.0, 1, 3429.0, 1, 5, 67.07, 2348)\n",
    "y_pred = pred.predict1(xg_reg)\n",
    "print(y_pred)"
   ]
  },
  {
   "cell_type": "code",
   "execution_count": null,
   "id": "7c5be986-e733-4770-bd00-4bf20bbd0eb7",
   "metadata": {},
   "outputs": [],
   "source": []
  },
  {
   "cell_type": "code",
   "execution_count": 19,
   "id": "59591087-e65d-4cf9-ae77-79a13ac6f085",
   "metadata": {},
   "outputs": [],
   "source": [
    "# def xgb_fun() :\n",
    "#     xg_reg = xgb.XGBRegressor(objective ='reg:squarederror', colsample_bytree = 0.5, learning_rate = 0.1,\n",
    "#                 max_depth = 3, alpha = 2, n_estimators = 3200)\n",
    "\n",
    "#     params = {\"objective\":\"reg:squarederror\",'colsample_bytree': 0.9,'learning_rate': 0.1,\n",
    "#                 'max_depth': 2, 'alpha': 10}\n",
    "\n",
    "\n",
    "#     cv_results = xgb.cv(dtrain=data_dmatrix, params=params, nfold=5,\n",
    "#                     num_boost_round=700,early_stopping_rounds=50,metrics=\"rmse\", as_pandas=True, seed=123)\n",
    "\n",
    "#     xg_reg.fit(X_train,y_train)\n",
    "#     preds = xg_reg.predict(X_test)\n",
    "#     return xg_reg"
   ]
  },
  {
   "cell_type": "code",
   "execution_count": 2,
   "id": "140d0cad-443c-4cb3-8df3-bb40bf07baa1",
   "metadata": {},
   "outputs": [],
   "source": [
    "# df = pd.read_csv('datasets/cleaned_dataset/cleaned_car_data.csv')"
   ]
  },
  {
   "cell_type": "code",
   "execution_count": 3,
   "id": "ac7c2009-9586-4729-973a-396ea080dd71",
   "metadata": {},
   "outputs": [],
   "source": [
    "# X = df[['displacement', 'mileage', 'fuel_capacity', 'height', 'length', 'width', 'power', 'torque']]\n",
    "# y = df['price']\n",
    "# # , 'wheelbase'"
   ]
  },
  {
   "cell_type": "code",
   "execution_count": 4,
   "id": "e6b6f508-b242-4312-a642-dcc0d69ae216",
   "metadata": {},
   "outputs": [],
   "source": [
    "# data_dmatrix = xgb.DMatrix(data=X,label=y)"
   ]
  },
  {
   "cell_type": "code",
   "execution_count": 5,
   "id": "206f75b0-bf6b-4fda-878d-17c87aeb887b",
   "metadata": {},
   "outputs": [],
   "source": [
    "# from sklearn.model_selection import train_test_split\n",
    "\n",
    "# X_train, X_test, y_train, y_test = train_test_split(X, y, test_size=0.2, random_state=123)"
   ]
  },
  {
   "cell_type": "code",
   "execution_count": 1099,
   "id": "91dad6b9-9c15-413d-adae-20a1955abe03",
   "metadata": {},
   "outputs": [
    {
     "data": {
      "text/plain": [
       "{'displacement': 117286240256.0,\n",
       " 'cylinders': 117242363904.0,\n",
       " 'mileage': 63769423872.0,\n",
       " 'fuel_capacity': 36270477312.0,\n",
       " 'fuel_type': 78674208.0,\n",
       " 'height': 70447013888.0,\n",
       " 'length': 209886085120.0,\n",
       " 'width': 108671131648.0,\n",
       " 'body_type': 42502680576.0,\n",
       " 'doors': 26573662208.0,\n",
       " 'power': 335653371904.0,\n",
       " 'torque': 49569976320.0,\n",
       " 'seating_capacity': 5582825984.0,\n",
       " 'wheelbase': 78811676672.0}"
      ]
     },
     "execution_count": 1099,
     "metadata": {},
     "output_type": "execute_result"
    }
   ],
   "source": [
    "# xg_reg = xgb_fun()\n",
    "\n",
    "xg_reg.get_booster().get_score(importance_type= 'gain')"
   ]
  },
  {
   "cell_type": "code",
   "execution_count": 1100,
   "id": "817c7ad9-6f5c-4290-bfe5-4d4015c20dae",
   "metadata": {},
   "outputs": [
    {
     "name": "stdout",
     "output_type": "stream",
     "text": [
      "[7.86742080e+07 5.58282598e+09 2.65736622e+10 3.62704773e+10\n",
      " 4.25026806e+10 4.95699763e+10 6.37694239e+10 7.04470139e+10\n",
      " 7.88116767e+10 1.08671132e+11 1.17242364e+11 1.17286240e+11\n",
      " 2.09886085e+11 3.35653372e+11]\n"
     ]
    }
   ],
   "source": [
    "a= np.array([117286240256.0,117242363904.0,63769423872.0,36270477312.0,78674208.0,70447013888.0,209886085120.0,108671131648.0,42502680576.0,26573662208.0,335653371904.0,49569976320.0,5582825984.0,78811676672.0])\n",
    "print(np.sort(a))"
   ]
  },
  {
   "cell_type": "code",
   "execution_count": 1102,
   "id": "a583b5b6-891b-4214-b13c-7971a6bffeb6",
   "metadata": {},
   "outputs": [
    {
     "data": {
      "image/png": "[encoded data removed]",
      "text/plain": [
       "<Figure size 432x288 with 1 Axes>"
      ]
     },
     "metadata": {
      "needs_background": "light"
     },
     "output_type": "display_data"
    },
    {
     "data": {
      "text/plain": [
       "<Figure size 1152x864 with 0 Axes>"
      ]
     },
     "metadata": {},
     "output_type": "display_data"
    }
   ],
   "source": [
    "xgb.plot_importance(xg_reg)\n",
    "plt.figure(figsize = (16, 12))\n",
    "plt.show()"
   ]
  },
  {
   "cell_type": "code",
   "execution_count": 21,
   "id": "9df8f2ea-e52b-4b72-9881-b8b4d96aba7a",
   "metadata": {},
   "outputs": [],
   "source": [
    "# Y_pred = xg_reg.predict(np.array([1998, 14.82, 68.0, 1467.0, 4963.0, 1868.0, 251.43, 350]).reshape(1, 8))"
   ]
  },
  {
   "cell_type": "code",
   "execution_count": 22,
   "id": "82b1dc27-6195-4a2d-9c7e-a40a6bfb0ff4",
   "metadata": {},
   "outputs": [
    {
     "name": "stdout",
     "output_type": "stream",
     "text": [
      "[5968050.5]\n"
     ]
    }
   ],
   "source": [
    "# print(Y_pred)"
   ]
  },
  {
   "cell_type": "code",
   "execution_count": null,
   "id": "73dd016b-c770-4c42-b6be-5815238051b6",
   "metadata": {},
   "outputs": [],
   "source": [
    "# class Price_Predictor:\n",
    "#     def __init__(self):\n",
    "#         self.disp = 0\n",
    "#         self.mil = 0.0      \n",
    "#         self.fuel = 0.0 \n",
    "#         self.hei = 0.0 \n",
    "#         self.wid = 0.0     \n",
    "#         self.leng = 0.0     \n",
    "#         self.powe = 0.0\n",
    "#         self.tor = 0.0\n",
    "#         self.seat = 0\n",
    "#         self.door = 0\n",
    "#         return\n",
    "        \n",
    "#     def input_params(self, disp, mil, fuel, hei, wid, leng, powe, tor, seat, door):\n",
    "#         self.disp = disp\n",
    "#         self.mil = mil   \n",
    "#         self.fuel = fuel\n",
    "#         self.hei = hei \n",
    "#         self.wid = wid  \n",
    "#         self.leng = leng \n",
    "#         self.powe = powe\n",
    "#         self.tor = tor \n",
    "#         self.seat = seat\n",
    "#         self.door = door\n",
    "#         return\n",
    "    \n",
    "    # self.cyl,\n",
    "    #     self.mil,      \n",
    "    #     self.fuel, \n",
    "    #     self.fuel_t,\n",
    "    #     self.hei,\n",
    "    #     self.wid,     \n",
    "    #     self.leng,\n",
    "    #     self.body_t,\n",
    "    #     self.door,\n",
    "    #     self.powe,\n",
    "    #     self.tor,\n",
    "    #     self.seat,\n",
    "    #     self.wheel\n",
    "    \n",
    "    # 'displacement', 'cylinders', 'mileage', 'fuel_capacity', 'fuel_type', 'height', 'length', 'width', 'body_type', 'doors', 'power', 'torque', 'seating_capacity', 'wheelbase'"
   ]
  },
  {
   "cell_type": "code",
   "execution_count": null,
   "id": "4206fe72-16ef-4644-b1f2-2f73b3f26912",
   "metadata": {},
   "outputs": [],
   "source": []
  }
 ],
 "metadata": {
  "kernelspec": {
   "display_name": "Python 3 (ipykernel)",
   "language": "python",
   "name": "python3"
  },
  "language_info": {
   "codemirror_mode": {
    "name": "ipython",
    "version": 3
   },
   "file_extension": ".py",
   "mimetype": "text/x-python",
   "name": "python",
   "nbconvert_exporter": "python",
   "pygments_lexer": "ipython3",
   "version": "3.9.7"
  }
 },
 "nbformat": 4,
 "nbformat_minor": 5
}
